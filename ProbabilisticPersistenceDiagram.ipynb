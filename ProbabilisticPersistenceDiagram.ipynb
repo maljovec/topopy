{
 "cells": [
  {
   "cell_type": "markdown",
   "metadata": {},
   "source": [
    "## Imports"
   ]
  },
  {
   "cell_type": "code",
   "execution_count": 2,
   "metadata": {
    "ExecuteTime": {
     "end_time": "2018-09-14T10:02:24.664383Z",
     "start_time": "2018-09-14T10:02:23.860074Z"
    }
   },
   "outputs": [],
   "source": [
    "import topopy\n",
    "from topopy.tests.test_functions import *\n",
    "import matplotlib.pyplot as plt\n",
    "import samplers\n",
    "import seaborn as sns\n",
    "from matplotlib import patches, collections\n",
    "import numpy as np\n",
    "from ipywidgets import interact, widgets"
   ]
  },
  {
   "cell_type": "markdown",
   "metadata": {},
   "source": [
    "## Setup Variables for Testing"
   ]
  },
  {
   "cell_type": "code",
   "execution_count": 3,
   "metadata": {
    "ExecuteTime": {
     "end_time": "2018-09-14T10:02:27.657513Z",
     "start_time": "2018-09-14T10:02:27.652536Z"
    }
   },
   "outputs": [],
   "source": [
    "# Look at topopy.tests.test_functions for different examples\n",
    "test_function = gerber_different_heights\n",
    "\n",
    "# This is the number of samples per Morse-Smale Complex, as you increase this, you should see less uncertainty in the persistence KDE plot.\n",
    "samples = 50"
   ]
  },
  {
   "cell_type": "markdown",
   "metadata": {},
   "source": [
    "## Helper Functions"
   ]
  },
  {
   "cell_type": "code",
   "execution_count": 5,
   "metadata": {
    "ExecuteTime": {
     "end_time": "2018-09-14T10:02:38.864860Z",
     "start_time": "2018-09-14T10:02:38.845480Z"
    }
   },
   "outputs": [],
   "source": [
    "def validation_grid(resolution=20, min_x = 0, max_x = 1):\n",
    "    x, y = np.mgrid[min_x:max_x:(resolution * 1j), min_x:max_x:(resolution * 1j)]\n",
    "    X = np.vstack([x.ravel(), y.ravel()]).T\n",
    "    return x, y, X\n",
    "\n",
    "def surface_plot(f, ax, resolution=50, samples=None, edges=None, title=None, cmap=plt.cm.cividis):\n",
    "    min_x = 0\n",
    "    max_x = 1\n",
    "    \n",
    "    x, y, X = validation_grid(resolution)\n",
    "    Z = f(X)\n",
    "    z = Z.reshape(x.shape)\n",
    "    ax.contourf(x,y,z, cmap=cmap)\n",
    "    \n",
    "    if samples is not None:\n",
    "        ax.scatter(samples[:, 0], samples[:, 1], s=80, linewidth=2, edgecolors=\"#FFFFFF\", facecolors='none', zorder=2)\n",
    "    if edges is not None:\n",
    "        lines = []\n",
    "        for edge in edges:\n",
    "            lines.append([(samples[edge[0], 0], samples[edge[0], 1]),\n",
    "                          (samples[edge[1], 0], samples[edge[1], 1])])\n",
    "        lc = mc.LineCollection(lines, colors=\"#FFFFFF\",\n",
    "                               linewidths=1, linestyles='--', zorder=1)\n",
    "        ax.add_collection(lc)\n",
    "    ax.set_aspect('equal')\n",
    "    ax.axis('off')\n",
    "    ax.set_title(title, fontsize=18)\n",
    "    \n",
    "def f(X):\n",
    "    X = np.atleast_2d(X)\n",
    "    Z = np.empty(X.shape[0])\n",
    "    for i, xi in enumerate(X):\n",
    "        Z[i] = test_function(xi)\n",
    "    return Z"
   ]
  },
  {
   "cell_type": "markdown",
   "metadata": {},
   "source": [
    "## Visualize Function Under Test"
   ]
  },
  {
   "cell_type": "code",
   "execution_count": null,
   "metadata": {},
   "outputs": [],
   "source": [
    "fig, ax = plt.subplots(1, 1, figsize=(10, 10), dpi=60)\n",
    "surface_plot(f, ax, resolution=20, title='Smooth Function')"
   ]
  },
  {
   "cell_type": "markdown",
   "metadata": {},
   "source": [
    "## Build Several Complexes Using Random Sampling"
   ]
  },
  {
   "cell_type": "code",
   "execution_count": null,
   "metadata": {},
   "outputs": [],
   "source": [
    "def generate_diagrams(samples=samples, repetitions=100):\n",
    "    diagrams = []\n",
    "\n",
    "    for seed in range(repetitions):\n",
    "        X = samplers.CVTSampler.generate_samples(samples, 2, seed)\n",
    "        Y = test_function(X)\n",
    "        Y = (Y - np.min(Y)) / (np.max(Y) - np.min(Y))\n",
    "        msc = topopy.MorseSmaleComplex(graph=\"beta skeleton\", gradient=\"steepest\", max_neighbors=8, beta=1.0)\n",
    "        msc.build(X, Y)\n",
    "        dgm = []\n",
    "        for extrema, (persistence, surviving, saddle) in msc.get_merge_sequence().items():\n",
    "            extrema_type = msc.get_classification(extrema)\n",
    "            if extrema_type == 'minimum':\n",
    "                birth = Y[extrema]\n",
    "                death = Y[extrema] + persistence\n",
    "            else:\n",
    "                birth = Y[extrema] - persistence\n",
    "                death = Y[extrema]\n",
    "            dgm.append((birth, death))\n",
    "        diagrams.append(dgm)\n",
    "    \n",
    "    return diagrams\n",
    "\n",
    "diagrams = generate_diagrams(samples, 100)"
   ]
  },
  {
   "cell_type": "markdown",
   "metadata": {},
   "source": [
    "## Plot All Realized Persistence Diagrams"
   ]
  },
  {
   "cell_type": "code",
   "execution_count": null,
   "metadata": {},
   "outputs": [],
   "source": [
    "for dgm in diagrams:\n",
    "    births = []\n",
    "    deaths = []\n",
    "    for (birth, death) in dgm:\n",
    "        births.append(birth)\n",
    "        deaths.append(death)\n",
    "    plt.scatter(births, deaths)\n",
    "plt.plot([0, 1], [0, 1])\n",
    "plt.gca().set_aspect('equal')"
   ]
  },
  {
   "cell_type": "markdown",
   "metadata": {},
   "source": [
    "## Some Statistical Plots of All Realized Persistence Diagrams"
   ]
  },
  {
   "cell_type": "code",
   "execution_count": null,
   "metadata": {},
   "outputs": [],
   "source": [
    "births = []\n",
    "deaths = []\n",
    "for dgm in diagrams:\n",
    "    for (birth, death) in dgm:\n",
    "        births.append(birth)\n",
    "        deaths.append(death)\n",
    "\n",
    "# Should be 0 and 1, respectively\n",
    "max_value = np.max(np.hstack((births, deaths)))\n",
    "min_value = np.min(np.hstack((births, deaths)))\n",
    "\n",
    "plt.hist2d(births, deaths, bins=25, range=[[min_value, max_value], [min_value, max_value]], cmap='Blues')\n",
    "plt.plot([0, max_value], [0, max_value])\n",
    "plt.gca().set_xlim(min_value, max_value)\n",
    "plt.gca().set_ylim(min_value, max_value)\n",
    "plt.gca().set_aspect('equal')"
   ]
  },
  {
   "cell_type": "code",
   "execution_count": null,
   "metadata": {},
   "outputs": [],
   "source": [
    "births = []\n",
    "deaths = []\n",
    "for dgm in diagrams:\n",
    "    for (birth, death) in dgm:\n",
    "        births.append(birth)\n",
    "        deaths.append(death)\n",
    "\n",
    "grid = sns.jointplot(births, deaths, joint_kws={\"gridsize\": 25}, marginal_kws={\"bins\": 25}, kind=\"hex\", xlim=(min_value, max_value), ylim=(min_value, max_value))\n",
    "grid.ax_joint.plot([0, max_value], [0, max_value])\n",
    "lower_triangle = patches.Polygon([[0, 0], [max_value, max_value], [max_value, 0]])\n",
    "mask = collections.PatchCollection([lower_triangle], alpha=1, color='#FFFFFF')\n",
    "grid.ax_joint.add_collection(mask)"
   ]
  },
  {
   "cell_type": "code",
   "execution_count": null,
   "metadata": {},
   "outputs": [],
   "source": [
    "births = []\n",
    "deaths = []\n",
    "for dgm in diagrams:\n",
    "    for (birth, death) in dgm:\n",
    "        births.append(birth)\n",
    "        deaths.append(death)\n",
    "\n",
    "grid = sns.jointplot(births, deaths, kind=\"kde\", xlim=(0, max_value), ylim=(0, max_value))\n",
    "grid.ax_joint.plot([0, max_value], [0, max_value])\n",
    "lower_triangle = patches.Polygon([[0, 0], [max_value, max_value], [max_value, 0]])\n",
    "mask = collections.PatchCollection([lower_triangle], alpha=1, color='#FFFFFF')\n",
    "grid.ax_joint.add_collection(mask)"
   ]
  },
  {
   "cell_type": "markdown",
   "metadata": {},
   "source": [
    "## Generate a Ground Truth with Many More Samples"
   ]
  },
  {
   "cell_type": "code",
   "execution_count": null,
   "metadata": {},
   "outputs": [],
   "source": [
    "X = samplers.CVTSampler.generate_samples(1000, 2, 0)\n",
    "Y = test_function(X)\n",
    "Y = (Y - np.min(Y)) / (np.max(Y) - np.min(Y))\n",
    "msc = topopy.MorseSmaleComplex(graph=\"beta skeleton\", gradient=\"steepest\", max_neighbors=25, beta=1.0)\n",
    "msc.build(X, Y)\n",
    "births = []\n",
    "deaths = []\n",
    "for extrema, (persistence, surviving, saddle) in msc.get_merge_sequence().items():\n",
    "    if persistence > 0.05:\n",
    "        extrema_type = msc.get_classification(extrema)\n",
    "        if extrema_type == 'minimum':\n",
    "            birth = Y[extrema]\n",
    "            death = Y[extrema] + persistence\n",
    "        else:\n",
    "            birth = Y[extrema] - persistence\n",
    "            death = Y[extrema]\n",
    "\n",
    "        births.append(birth)\n",
    "        deaths.append(death)\n",
    "        \n",
    "max_value = np.max(np.hstack((births, deaths)))\n",
    "        \n",
    "plt.scatter(births, deaths)\n",
    "plt.plot([0, max_value], [0, max_value])"
   ]
  },
  {
   "cell_type": "markdown",
   "metadata": {},
   "source": [
    "## Verify the Ground Truth"
   ]
  },
  {
   "cell_type": "code",
   "execution_count": null,
   "metadata": {},
   "outputs": [],
   "source": [
    "fig, ax = plt.subplots(1, 1, figsize=(10, 10), dpi=60)\n",
    "surface_plot(f, ax, resolution=20, title='Smooth Function')\n",
    "maxima = []\n",
    "minima = []\n",
    "for extrema, (persistence, surviving, saddle) in msc.get_merge_sequence().items():\n",
    "    if persistence > 0.05:\n",
    "        if msc.get_classification(extrema) == 'minimum':\n",
    "            minima.append(extrema)\n",
    "        else:\n",
    "            maxima.append(extrema)\n",
    "ax.scatter(X[:, 0], X[:, 1], facecolors='none', edgecolors='w', alpha=0.5)\n",
    "ax.scatter(X[maxima, 0], X[maxima, 1], facecolors='g', edgecolors='g')\n",
    "ax.scatter(X[minima, 0], X[minima, 1], facecolors='r', edgecolors='r')\n",
    "lines = []\n",
    "for i in range(len(Y)):\n",
    "    neighbors = msc.get_neighbors(i)\n",
    "    for j in neighbors:\n",
    "        lines.append([(X[i, 0], X[i, 1]),\n",
    "                      (X[j, 0], X[j, 1])])\n",
    "\n",
    "lc = collections.LineCollection(lines, colors=\"#FFFFFF\", linewidths=1, linestyles='--', zorder=1, alpha=0.25)\n",
    "ax.add_collection(lc)"
   ]
  },
  {
   "cell_type": "markdown",
   "metadata": {},
   "source": [
    "## Overlay"
   ]
  },
  {
   "cell_type": "code",
   "execution_count": null,
   "metadata": {},
   "outputs": [],
   "source": [
    "def plot_overlay(truth, samples=samples, repetitions=100):\n",
    "    diagrams = generate_diagrams(samples, repetitions)\n",
    "    births = []\n",
    "    deaths = []\n",
    "    for dgm in diagrams:\n",
    "        for (birth, death) in dgm:\n",
    "            births.append(birth)\n",
    "            deaths.append(death)\n",
    "\n",
    "    grid = sns.jointplot(births, deaths, kind=\"kde\", xlim=(0, max_value), ylim=(0, max_value))\n",
    "    grid.ax_joint.plot([0, max_value], [0, max_value])\n",
    "    lower_triangle = patches.Polygon([[0, 0], [max_value, max_value], [max_value, 0]])\n",
    "    mask = collections.PatchCollection([lower_triangle], alpha=1, color='#FFFFFF')\n",
    "    grid.ax_joint.add_collection(mask)\n",
    "\n",
    "    if truth:\n",
    "        births = []\n",
    "        deaths = []\n",
    "        for extrema, (persistence, surviving, saddle) in truth.get_merge_sequence().items():\n",
    "            if persistence > 0.05:\n",
    "                extrema_type = msc.get_classification(extrema)\n",
    "                if extrema_type == 'minimum':\n",
    "                    birth = Y[extrema]\n",
    "                    death = Y[extrema] + persistence\n",
    "                else:\n",
    "                    birth = Y[extrema] - persistence\n",
    "                    death = Y[extrema]\n",
    "                births.append(birth)\n",
    "                deaths.append(death)\n",
    "        grid.ax_joint.scatter(births, deaths, c='#FFFFFF', edgecolors='#000000')"
   ]
  },
  {
   "cell_type": "code",
   "execution_count": null,
   "metadata": {},
   "outputs": [],
   "source": [
    "plot_overlay(msc, 20, 100)"
   ]
  },
  {
   "cell_type": "code",
   "execution_count": null,
   "metadata": {},
   "outputs": [],
   "source": [
    "plot_overlay(msc, 50, 100)"
   ]
  },
  {
   "cell_type": "code",
   "execution_count": null,
   "metadata": {},
   "outputs": [],
   "source": [
    "plot_overlay(msc, 100, 100)"
   ]
  },
  {
   "cell_type": "code",
   "execution_count": null,
   "metadata": {},
   "outputs": [],
   "source": [
    "plot_overlay(msc, 1000, 100)"
   ]
  },
  {
   "cell_type": "code",
   "execution_count": null,
   "metadata": {},
   "outputs": [],
   "source": [
    "plot_overlay(msc, 5000, 100)"
   ]
  },
  {
   "cell_type": "code",
   "execution_count": null,
   "metadata": {},
   "outputs": [],
   "source": [
    "plot_overlay(msc, 10000, 100)"
   ]
  },
  {
   "cell_type": "markdown",
   "metadata": {},
   "source": [
    "## Probabilistic Graph Function"
   ]
  },
  {
   "cell_type": "code",
   "execution_count": 11,
   "metadata": {
    "ExecuteTime": {
     "end_time": "2018-09-14T10:05:41.166361Z",
     "start_time": "2018-09-14T10:05:40.748006Z"
    },
    "scrolled": false
   },
   "outputs": [
    {
     "data": {
      "image/png": "[encoded data removed]",
      "text/plain": [
       "<Figure size 1000x1000 with 3 Axes>"
      ]
     },
     "metadata": {
      "needs_background": "light"
     },
     "output_type": "display_data"
    }
   ],
   "source": [
    "def logistic_function(x, r):\n",
    "    k = 3. / r\n",
    "    return 1 / (1 + np.exp(-k*(x - r)))\n",
    "\n",
    "P = np.array([[0.25, 0.25],[0.75, 0.75]])\n",
    "mid = np.average(P, axis=0)\n",
    "r = np.linalg.norm(mid - P[0])\n",
    "\n",
    "x, y, X = validation_grid(40)\n",
    "Z = logistic_function(np.linalg.norm(X - mid, axis=1), r)\n",
    "z = Z.reshape(x.shape)\n",
    "\n",
    "fig, ax = plt.subplots(2, 1, figsize=(10, 10), dpi=100)\n",
    "x1 = np.linspace(0, max(2*r,1), 100)\n",
    "y1 = logistic_function(x1, r)\n",
    "\n",
    "ax[0].plot(x1, y1, linewidth=4)\n",
    "ax[0].plot([min(x1), r, r], [0.5, 0.5, 0], linestyle='--', linewidth=4)\n",
    "ax[0].set_xlim(0, 1)\n",
    "ax[0].set_ylim(0, 1)\n",
    "ax[0].set_aspect('equal')\n",
    "\n",
    "contour = ax[1].contourf(x,y,z, cmap=plt.cm.cividis, vmin=0, vmax=1)\n",
    "ax[1].scatter(P[:, 0], P[:, 1], color='#ffffff')\n",
    "ax[1].plot(P[:, 0], P[:, 1], linestyle='--', color='#ffffff')\n",
    "empty_region = patches.Circle(mid, r, facecolor='none', edgecolor='#ffffff')\n",
    "ax[1].add_patch(empty_region)\n",
    "cb = fig.colorbar(contour, ax=ax[1], boundaries=(0,1))\n",
    "ax[1].set_xlim(0, 1)\n",
    "ax[1].set_ylim(0, 1)\n",
    "ax[1].set_aspect('equal')"
   ]
  },
  {
   "cell_type": "code",
   "execution_count": 50,
   "metadata": {
    "ExecuteTime": {
     "end_time": "2018-09-14T10:28:56.193790Z",
     "start_time": "2018-09-14T10:28:55.716817Z"
    },
    "code_folding": [
     4,
     25
    ]
   },
   "outputs": [
    {
     "data": {
      "application/vnd.jupyter.widget-view+json": {
       "model_id": "4557a83ea5024526a05fec3333e3bf37",
       "version_major": 2,
       "version_minor": 0
      },
      "text/plain": [
       "interactive(children=(FloatSlider(value=1.0, continuous_update=False, description='beta', max=2.0, min=0.1), F…"
      ]
     },
     "metadata": {},
     "output_type": "display_data"
    }
   ],
   "source": [
    "@interact(beta=widgets.FloatSlider(min=0.1, max=2.0, step=0.1, value=1, continuous_update=False),\n",
    "          lp=widgets.FloatSlider(min=0.1, max=5.0, step=0.1, value=2, continuous_update=False),\n",
    "          steepness=widgets.FloatSlider(min=1, max=10, step=0.5, value=3, continuous_update=False))\n",
    "def plot_probability(beta=1, lp=2, steepness=3):\n",
    "    def paired_lpnorms(A, B, p=2):\n",
    "        \"\"\" Method to compute the paired Lp-norms between two sets of points. Note,\n",
    "        A and B should be the same shape.\n",
    "\n",
    "        Args:\n",
    "            A (MxN matrix): A collection of points\n",
    "            B (MxN matrix): A collection of points\n",
    "            p (positive float): The p value specifying what kind of Lp-norm to use\n",
    "                to compute the shape of the lunes.\n",
    "        \"\"\"\n",
    "        N = A.shape[0]\n",
    "        dimensionality = A.shape[1]\n",
    "        norms = np.zeros(N)\n",
    "        for i in range(N):\n",
    "            norm = 0.0\n",
    "            for k in range(dimensionality):\n",
    "                norm += (A[i, k] - B[i, k])**p\n",
    "            norms[i] = norm**(1./p)\n",
    "        return norms\n",
    "\n",
    "\n",
    "    def min_distance_from_edge(t, beta, p):\n",
    "        \"\"\" Using a parameterized scale from [0,1], this function will determine\n",
    "        the minimum valid distance to an edge given a specified lune shape defined\n",
    "        by a beta parameter for defining the radius and a p parameter specifying\n",
    "        the type of Lp-norm the lune's shape will be defined in.\n",
    "\n",
    "        Args:\n",
    "            t (float): the parameter value defining how far into the edge we are.\n",
    "            0 means we are at one of the endpoints, 1 means we are at the edge's\n",
    "            midpoint.\n",
    "            beta (float): The beta value for the lune-based beta-skeleton\n",
    "            p (float): The p value specifying which Lp-norm to use to compute\n",
    "                the shape of the lunes. A negative value will be\n",
    "                used to represent the inf norm\n",
    "\n",
    "        \"\"\"\n",
    "        xC = 0\n",
    "        yC = 0\n",
    "        if t > 1:\n",
    "            return 0\n",
    "        if beta <= 1:\n",
    "            r = 1 / beta\n",
    "            yC = (r**p - 1)**(1. / p)\n",
    "        else:\n",
    "            r = beta\n",
    "            xC = 1 - beta\n",
    "        y = (r**p - (t-xC)**p)**(1. / p) - yC\n",
    "        return 0.5*y\n",
    "\n",
    "    def logistic_function(x, r):\n",
    "        with np.errstate(divide=\"ignore\"):\n",
    "            k = steepness / r\n",
    "            return 1 / (1 + np.exp(-k*(x - r)))\n",
    "\n",
    "    P = np.array([[0.25, 0.25],[0.75, 0.75]])\n",
    "    mid = np.average(P, axis=0)\n",
    "    r = np.linalg.norm(mid - P[0])\n",
    "\n",
    "    x, y, X = validation_grid(40)\n",
    "    Z = logistic_function(np.linalg.norm(X - mid, axis=1), r)\n",
    "    z = Z.reshape(x.shape)\n",
    "\n",
    "    p = P[0]\n",
    "    q = P[1]\n",
    "    pq = q - p\n",
    "    edge_length = np.linalg.norm(pq)\n",
    "    Xp = X - p\n",
    "    projections = np.dot(Xp, pq)/(edge_length**2)\n",
    "    # temp_indices = np.logical_and(projections > 0., projections < 1.)\n",
    "    # valid_indices = np.nonzero(temp_indices)[0]\n",
    "    valid_indices = np.array(range(len(projections)))\n",
    "\n",
    "    temp = np.atleast_2d(projections[valid_indices]).T*pq\n",
    "    min_distances = np.zeros(len(valid_indices))\n",
    "    for idx, t in enumerate(projections[valid_indices]):\n",
    "        min_distances[idx] = min_distance_from_edge(abs(2*t-1), beta=beta, p=lp) * edge_length\n",
    "    distances_to_edge = paired_lpnorms(Xp[valid_indices], temp)\n",
    "\n",
    "    # distances_to_edge < min_distances\n",
    "\n",
    "    Z = logistic_function(distances_to_edge, min_distances)\n",
    "    z = Z.reshape(x.shape)\n",
    "\n",
    "    fig, ax = plt.subplots(1, 2, figsize=(20, 10), dpi=80)\n",
    "    import math\n",
    "    angle = math.atan2(pq[0], -pq[1])\n",
    "    \n",
    "    x1 = np.linspace(0, max(2*r,1), 100)\n",
    "    y1 = logistic_function(x1, r)\n",
    "\n",
    "    ax[0].plot(x1, y1, linewidth=4)\n",
    "    ax[0].plot([min(x1), r, r], [0.5, 0.5, 0], linestyle='--', linewidth=4)\n",
    "    ax[0].set_xlim(0, 1)\n",
    "    ax[0].set_ylim(0, 1)\n",
    "#     ax[0].set_aspect('equal')\n",
    "    \n",
    "    contour = ax[1].contourf(x,y,z, cmap=plt.cm.cividis, vmin=0, vmax=1)\n",
    "    ax[1].scatter(P[:, 0], P[:, 1], color='#ffffff')\n",
    "    ax[1].plot(P[:, 0], P[:, 1], linestyle='--', color='#ffffff')\n",
    "    empty_region = patches.Circle(mid, r, facecolor='none', edgecolor='#ffffff')\n",
    "    ax[1].add_patch(empty_region)\n",
    "    ax[1].add_patch(patches.Arc(P[0], 4*r, 4*r, 0, math.pi/12., edgecolor='#ffffff', linewidth=4))\n",
    "    ax[1].add_patch(patches.Arc(P[1], 4*r, 4*r, angle, angle+3*math.pi, edgecolor='#ffffff', linewidth=4))\n",
    "    cb = fig.colorbar(contour, ax=ax[1], boundaries=(0,1))\n",
    "    ax[1].set_xlim(0, 1)\n",
    "    ax[1].set_ylim(0, 1)\n",
    "    ax[1].set_aspect('equal')"
   ]
  },
  {
   "cell_type": "code",
   "execution_count": null,
   "metadata": {},
   "outputs": [],
   "source": []
  }
 ],
 "metadata": {
  "kernelspec": {
   "display_name": "Python [conda env:regulus]",
   "language": "python",
   "name": "conda-env-regulus-py"
  },
  "language_info": {
   "codemirror_mode": {
    "name": "ipython",
    "version": 3
   },
   "file_extension": ".py",
   "mimetype": "text/x-python",
   "name": "python",
   "nbconvert_exporter": "python",
   "pygments_lexer": "ipython3",
   "version": "3.6.6"
  },
  "toc": {
   "base_numbering": 1,
   "nav_menu": {},
   "number_sections": true,
   "sideBar": true,
   "skip_h1_title": false,
   "title_cell": "Table of Contents",
   "title_sidebar": "Contents",
   "toc_cell": false,
   "toc_position": {
    "height": "calc(100% - 180px)",
    "left": "10px",
    "top": "150px",
    "width": "342px"
   },
   "toc_section_display": true,
   "toc_window_display": true
  }
 },
 "nbformat": 4,
 "nbformat_minor": 2
}
